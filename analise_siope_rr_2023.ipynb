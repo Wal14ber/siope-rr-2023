{
  "cells": [
    {
      "cell_type": "markdown",
      "metadata": {
        "id": "view-in-github",
        "colab_type": "text"
      },
      "source": [
        "<a href=\"https://colab.research.google.com/github/Wal14ber/siope-rr-2023/blob/main/analise_siope_rr_2023.ipynb\" target=\"_parent\"><img src=\"https://colab.research.google.com/assets/colab-badge.svg\" alt=\"Open In Colab\"/></a>"
      ]
    },
    {
      "cell_type": "markdown",
      "id": "0acb0b05",
      "metadata": {
        "id": "0acb0b05"
      },
      "source": [
        "# 📊 Análise dos Gastos com Educação – SIOPE 2023 (Roraima)\n",
        "\n",
        "Este notebook realiza uma análise exploratória com SQL e Python dos gastos com educação dos municípios de Roraima, utilizando dados reais extraídos do SIOPE (FNDE)."
      ]
    },
    {
      "cell_type": "code",
      "execution_count": null,
      "id": "e5655ccd",
      "metadata": {
        "id": "e5655ccd"
      },
      "outputs": [],
      "source": [
        "# 🔽 Instalar bibliotecas necessárias (caso use localmente)\n",
        "# !pip install pandas matplotlib seaborn\n",
        "import pandas as pd\n",
        "import sqlite3\n",
        "import matplotlib.pyplot as plt\n",
        "import seaborn as sns\n"
      ]
    },
    {
      "cell_type": "markdown",
      "id": "b41c6e62",
      "metadata": {
        "id": "b41c6e62"
      },
      "source": [
        "## 📁 1. Carregar os dados CSV do SIOPE 2023"
      ]
    },
    {
      "cell_type": "code",
      "execution_count": null,
      "id": "31775e09",
      "metadata": {
        "id": "31775e09"
      },
      "outputs": [],
      "source": [
        "# Faça upload do arquivo CSV manualmente ou carregue do Google Drive\n",
        "csv_file = 'siope_rr_2023.csv'  # renomeie conforme seu arquivo real\n",
        "df = pd.read_csv(csv_file, sep=';', encoding='latin1')\n",
        "df.head()"
      ]
    },
    {
      "cell_type": "markdown",
      "id": "3d8c99d4",
      "metadata": {
        "id": "3d8c99d4"
      },
      "source": [
        "## 🛠️ 2. Criar banco de dados SQLite e importar a tabela"
      ]
    },
    {
      "cell_type": "code",
      "execution_count": null,
      "id": "61af7aba",
      "metadata": {
        "id": "61af7aba"
      },
      "outputs": [],
      "source": [
        "conn = sqlite3.connect('siope_rr.db')\n",
        "df.to_sql('educacao', conn, if_exists='replace', index=False)\n",
        "print(\"Base carregada no SQLite com sucesso!\")"
      ]
    },
    {
      "cell_type": "markdown",
      "id": "d1b26397",
      "metadata": {
        "id": "d1b26397"
      },
      "source": [
        "## 🔎 3. Consultas SQL – Análise de Gastos por Município"
      ]
    },
    {
      "cell_type": "code",
      "execution_count": null,
      "id": "fcc3dcc4",
      "metadata": {
        "id": "fcc3dcc4"
      },
      "outputs": [],
      "source": [
        "query = '''\n",
        "SELECT municipio, SUM(valor_pago) AS total_pago\n",
        "FROM educacao\n",
        "WHERE uf = 'RR'\n",
        "GROUP BY municipio\n",
        "ORDER BY total_pago DESC\n",
        "'''\n",
        "df_gasto = pd.read_sql_query(query, conn)\n",
        "df_gasto"
      ]
    },
    {
      "cell_type": "markdown",
      "id": "839343dd",
      "metadata": {
        "id": "839343dd"
      },
      "source": [
        "## 📊 4. Gráfico: Total de Gastos com Educação por Município"
      ]
    },
    {
      "cell_type": "code",
      "execution_count": null,
      "id": "bc4be5d9",
      "metadata": {
        "id": "bc4be5d9"
      },
      "outputs": [],
      "source": [
        "plt.figure(figsize=(12,6))\n",
        "sns.barplot(data=df_gasto, x='total_pago', y='municipio', palette='viridis')\n",
        "plt.title('Gastos com Educação – Municípios de Roraima (SIOPE 2023)')\n",
        "plt.xlabel('Valor Pago (R$)')\n",
        "plt.ylabel('Município')\n",
        "plt.tight_layout()\n",
        "plt.show()"
      ]
    }
  ],
  "metadata": {
    "colab": {
      "provenance": [],
      "include_colab_link": true
    }
  },
  "nbformat": 4,
  "nbformat_minor": 5
}